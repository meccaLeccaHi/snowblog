{
 "cells": [
  {
   "cell_type": "code",
   "execution_count": 4,
   "metadata": {},
   "outputs": [],
   "source": [
    "from app import db \n",
    "from app.models import Resort, Post\n",
    "import numpy as np"
   ]
  },
  {
   "cell_type": "code",
   "execution_count": 2,
   "metadata": {},
   "outputs": [],
   "source": [
    "resort = Resort(resortname='Kentucky Snowbowl', url='www.google.com', state='KY', latitude = 34, longitude=32)\n",
    "db.session.add(resort)\n",
    "resort = Resort(resortname=\"Goat's Nest Lodge\", url='www.yahoo.com', state='WI', latitude=20, longitude=20)\n",
    "db.session.add(resort)\n",
    "db.session.commit()"
   ]
  },
  {
   "cell_type": "code",
   "execution_count": 14,
   "metadata": {},
   "outputs": [
    {
     "name": "stdout",
     "output_type": "stream",
     "text": [
      "[<Post Well, ain't that a kick in the teeth?>, <Post Neato skeeto!>, <Post It's big, but is it TOO big??>]\n"
     ]
    }
   ],
   "source": [
    "post = Post.query.all()\n",
    "print(post)"
   ]
  },
  {
   "cell_type": "code",
   "execution_count": 13,
   "metadata": {},
   "outputs": [],
   "source": [
    "db.session.delete(post)\n",
    "db.session.commit()"
   ]
  },
  {
   "cell_type": "code",
   "execution_count": 78,
   "metadata": {},
   "outputs": [
    {
     "name": "stdout",
     "output_type": "stream",
     "text": [
      "[<Resort Kentucky Snowbowl>, <Resort Goat's Nest Lodge>, <Resort Cloudmont>, <Resort Alyeska>, <Resort Eaglecrest>, <Resort Majestic Heli Ski>, <Resort Arizona Snowbowl>, <Resort Elk Ridge Ski>, <Resort Mt. Lemmon Ski Valley>, <Resort Sunrise Park>, <Resort Alpine Meadows>, <Resort Alta Sierra>, <Resort Bear Valley>, <Resort Big Bear>, <Resort Boreal>, <Resort China Peak>, <Resort Dodge Ridge>, <Resort Donner Ski Ranch>, <Resort Heavenly>, <Resort Homewood>, <Resort June Mountain>, <Resort Kirkwood>, <Resort Mammoth Mountain>, <Resort Mount Baldy>, <Resort Mountain High>, <Resort Mt Shasta Ski Park>, <Resort Northstar>, <Resort Sierra at Tahoe>, <Resort Snow Summit>, <Resort Snow Valley>, <Resort Soda Springs>, <Resort Squaw Valley>, <Resort Sugar Bowl>, <Resort Tahoe Donner>, <Resort Yosemite Ski & Snowboard Area>, <Resort Arapahoe Basin>, <Resort Aspen Highlands>, <Resort Aspen Mountain>, <Resort Beaver Creek>, <Resort Berthoud Pass>, <Resort Breckenridge>, <Resort Buttermilk>, <Resort Cameron Pass>, <Resort Cooper>, <Resort Copper Mountain>, <Resort Crested Butte>, <Resort Echo Mountain>, <Resort Eldora>, <Resort Hesperus>, <Resort Irwin>, <Resort Keystone>, <Resort Loveland Ski Area>, <Resort Monarch>, <Resort Powderhorn>, <Resort Purgatory>, <Resort Rocky Mountain National Park>, <Resort Silverton>, <Resort Ski Granby Ranch>, <Resort Snowmass>, <Resort Steamboat>, <Resort Sunlight>, <Resort Telluride>, <Resort Vail>, <Resort Winter Park>, <Resort Wolf Creek>]\n"
     ]
    }
   ],
   "source": [
    "r = Resort.query.all()\n",
    "print(r)"
   ]
  },
  {
   "cell_type": "code",
   "execution_count": 80,
   "metadata": {},
   "outputs": [
    {
     "ename": "AttributeError",
     "evalue": "type object 'Resort' has no attribute 'filter'",
     "output_type": "error",
     "traceback": [
      "\u001b[0;31m---------------------------------------------------------------------------\u001b[0m",
      "\u001b[0;31mAttributeError\u001b[0m                            Traceback (most recent call last)",
      "\u001b[0;32m<ipython-input-80-6c9c824df964>\u001b[0m in \u001b[0;36m<module>\u001b[0;34m()\u001b[0m\n\u001b[0;32m----> 1\u001b[0;31m \u001b[0mResort\u001b[0m\u001b[0;34m.\u001b[0m\u001b[0mfilter\u001b[0m\u001b[0;34m(\u001b[0m\u001b[0mid\u001b[0m\u001b[0;34m.\u001b[0m\u001b[0min_\u001b[0m\u001b[0;34m[\u001b[0m\u001b[0;36m2\u001b[0m\u001b[0;34m,\u001b[0m\u001b[0;36m3\u001b[0m\u001b[0;34m]\u001b[0m\u001b[0;34m)\u001b[0m\u001b[0;34m\u001b[0m\u001b[0m\n\u001b[0m",
      "\u001b[0;31mAttributeError\u001b[0m: type object 'Resort' has no attribute 'filter'"
     ]
    }
   ],
   "source": [
    "Resort.filter(id.in_[2,3])\n"
   ]
  },
  {
   "cell_type": "code",
   "execution_count": 7,
   "metadata": {},
   "outputs": [],
   "source": [
    "post = Post(body=\"Well, ain't that a kick in the teeth?\", resortname=r.resortname)\n",
    "db.session.add(post)\n",
    "db.session.commit()"
   ]
  },
  {
   "cell_type": "code",
   "execution_count": 9,
   "metadata": {},
   "outputs": [
    {
     "name": "stdout",
     "output_type": "stream",
     "text": [
      "[<Post bra bra bra>, <Post Posty post post>, <Post Well, ain't that a kick in the teeth?>, <Post omg I think it might be working>]\n"
     ]
    }
   ],
   "source": [
    "p = Post.query.all()\n",
    "print(p)"
   ]
  },
  {
   "cell_type": "code",
   "execution_count": 97,
   "metadata": {},
   "outputs": [
    {
     "data": {
      "text/plain": [
       "['Alpine Meadows', 'Alta Sierra', 'Snow Valley', 'China Peak', 'June Mountain']"
      ]
     },
     "execution_count": 97,
     "metadata": {},
     "output_type": "execute_result"
    }
   ],
   "source": [
    "[Resort.query.get(int(i)).resortname for i in dist.argsort()[:5]]"
   ]
  },
  {
   "cell_type": "code",
   "execution_count": 13,
   "metadata": {},
   "outputs": [],
   "source": [
    "from scipy.spatial import distance\n",
    "import numpy as np\n",
    "\n",
    "resort_locs = [(i.latitude, i.longitude) for i in Resort.query.all()]\n",
    "\n",
    "dist = np.array([distance.euclidean(rl, (37.8728024, -122.5418482)) for rl in resort_locs])\n",
    "\n",
    "top5 = [Resort.query.get(i) for i in dist.argsort()[:5]]"
   ]
  },
  {
   "cell_type": "code",
   "execution_count": 15,
   "metadata": {},
   "outputs": [
    {
     "data": {
      "text/plain": [
       "array([21, 16, 30, 12, 11])"
      ]
     },
     "execution_count": 15,
     "metadata": {},
     "output_type": "execute_result"
    }
   ],
   "source": []
  },
  {
   "cell_type": "code",
   "execution_count": 93,
   "metadata": {},
   "outputs": [
    {
     "data": {
      "text/plain": [
       "'Alpine Meadows'"
      ]
     },
     "execution_count": 93,
     "metadata": {},
     "output_type": "execute_result"
    }
   ],
   "source": [
    "top = top5[0].resortname\n",
    "top"
   ]
  },
  {
   "cell_type": "code",
   "execution_count": 94,
   "metadata": {},
   "outputs": [
    {
     "ename": "TypeError",
     "evalue": "int() argument must be a string, a bytes-like object or a number, not 'list'",
     "output_type": "error",
     "traceback": [
      "\u001b[0;31m---------------------------------------------------------------------------\u001b[0m",
      "\u001b[0;31mTypeError\u001b[0m                                 Traceback (most recent call last)",
      "\u001b[0;32m<ipython-input-94-33c355fc7c1c>\u001b[0m in \u001b[0;36m<module>\u001b[0;34m()\u001b[0m\n\u001b[0;32m----> 1\u001b[0;31m \u001b[0mfoo\u001b[0m \u001b[0;34m=\u001b[0m \u001b[0mResort\u001b[0m\u001b[0;34m.\u001b[0m\u001b[0mquery\u001b[0m\u001b[0;34m.\u001b[0m\u001b[0mget\u001b[0m\u001b[0;34m(\u001b[0m\u001b[0mint\u001b[0m\u001b[0;34m(\u001b[0m\u001b[0mtop5\u001b[0m\u001b[0;34m)\u001b[0m\u001b[0;34m)\u001b[0m\u001b[0;34m\u001b[0m\u001b[0m\n\u001b[0m\u001b[1;32m      2\u001b[0m \u001b[0mfoo\u001b[0m\u001b[0;34m.\u001b[0m\u001b[0mresortname\u001b[0m\u001b[0;34m\u001b[0m\u001b[0m\n",
      "\u001b[0;31mTypeError\u001b[0m: int() argument must be a string, a bytes-like object or a number, not 'list'"
     ]
    }
   ],
   "source": [
    "foo = Resort.query.get(int(top5))\n",
    "foo.resortname"
   ]
  },
  {
   "cell_type": "code",
   "execution_count": 86,
   "metadata": {},
   "outputs": [
    {
     "data": {
      "text/plain": [
       "['Alpine Meadows', 'Alta Sierra', 'Snow Valley', 'China Peak', 'June Mountain']"
      ]
     },
     "execution_count": 86,
     "metadata": {},
     "output_type": "execute_result"
    }
   ],
   "source": [
    "[Resort.query.get(int(i)).resortname for i in top5]"
   ]
  },
  {
   "cell_type": "code",
   "execution_count": 75,
   "metadata": {},
   "outputs": [
    {
     "data": {
      "text/plain": [
       "<Resort Snow Valley>"
      ]
     },
     "execution_count": 75,
     "metadata": {},
     "output_type": "execute_result"
    }
   ],
   "source": [
    "Resort.query.get(30)"
   ]
  },
  {
   "cell_type": "code",
   "execution_count": 55,
   "metadata": {},
   "outputs": [
    {
     "data": {
      "text/plain": [
       "[('KentuckySnowbowl', 'Kentucky Snowbowl'),\n",
       " ('GoatsNestLodge', \"Goat's Nest Lodge\"),\n",
       " ('Cloudmont', 'Cloudmont'),\n",
       " ('Alyeska', 'Alyeska'),\n",
       " ('Eaglecrest', 'Eaglecrest'),\n",
       " ('MajesticHeliSki', 'Majestic Heli Ski'),\n",
       " ('ArizonaSnowbowl', 'Arizona Snowbowl'),\n",
       " ('ElkRidgeSki', 'Elk Ridge Ski'),\n",
       " ('Mt.LemmonSkiValley', 'Mt. Lemmon Ski Valley'),\n",
       " ('SunrisePark', 'Sunrise Park'),\n",
       " ('AlpineMeadows', 'Alpine Meadows'),\n",
       " ('AltaSierra', 'Alta Sierra'),\n",
       " ('BearValley', 'Bear Valley'),\n",
       " ('BigBear', 'Big Bear'),\n",
       " ('Boreal', 'Boreal'),\n",
       " ('ChinaPeak', 'China Peak'),\n",
       " ('DodgeRidge', 'Dodge Ridge'),\n",
       " ('DonnerSkiRanch', 'Donner Ski Ranch'),\n",
       " ('Heavenly', 'Heavenly'),\n",
       " ('Homewood', 'Homewood'),\n",
       " ('JuneMountain', 'June Mountain'),\n",
       " ('Kirkwood', 'Kirkwood'),\n",
       " ('MammothMountain', 'Mammoth Mountain'),\n",
       " ('MountBaldy', 'Mount Baldy'),\n",
       " ('MountainHigh', 'Mountain High'),\n",
       " ('MtShastaSkiPark', 'Mt Shasta Ski Park'),\n",
       " ('Northstar', 'Northstar'),\n",
       " ('SierraatTahoe', 'Sierra at Tahoe'),\n",
       " ('SnowSummit', 'Snow Summit'),\n",
       " ('SnowValley', 'Snow Valley'),\n",
       " ('SodaSprings', 'Soda Springs'),\n",
       " ('SquawValley', 'Squaw Valley'),\n",
       " ('SugarBowl', 'Sugar Bowl'),\n",
       " ('TahoeDonner', 'Tahoe Donner'),\n",
       " ('YosemiteSki&SnowboardArea', 'Yosemite Ski & Snowboard Area'),\n",
       " ('ArapahoeBasin', 'Arapahoe Basin'),\n",
       " ('AspenHighlands', 'Aspen Highlands'),\n",
       " ('AspenMountain', 'Aspen Mountain'),\n",
       " ('BeaverCreek', 'Beaver Creek'),\n",
       " ('BerthoudPass', 'Berthoud Pass'),\n",
       " ('Breckenridge', 'Breckenridge'),\n",
       " ('Buttermilk', 'Buttermilk'),\n",
       " ('CameronPass', 'Cameron Pass'),\n",
       " ('Cooper', 'Cooper'),\n",
       " ('CopperMountain', 'Copper Mountain'),\n",
       " ('CrestedButte', 'Crested Butte'),\n",
       " ('EchoMountain', 'Echo Mountain'),\n",
       " ('Eldora', 'Eldora'),\n",
       " ('Hesperus', 'Hesperus'),\n",
       " ('Irwin', 'Irwin'),\n",
       " ('Keystone', 'Keystone'),\n",
       " ('LovelandSkiArea', 'Loveland Ski Area'),\n",
       " ('Monarch', 'Monarch'),\n",
       " ('Powderhorn', 'Powderhorn'),\n",
       " ('Purgatory', 'Purgatory'),\n",
       " ('RockyMountainNationalPark', 'Rocky Mountain National Park'),\n",
       " ('Silverton', 'Silverton'),\n",
       " ('SkiGranbyRanch', 'Ski Granby Ranch'),\n",
       " ('Snowmass', 'Snowmass'),\n",
       " ('Steamboat', 'Steamboat'),\n",
       " ('Sunlight', 'Sunlight'),\n",
       " ('Telluride', 'Telluride'),\n",
       " ('Vail', 'Vail'),\n",
       " ('WinterPark', 'Winter Park'),\n",
       " ('WolfCreek', 'Wolf Creek')]"
      ]
     },
     "execution_count": 55,
     "metadata": {},
     "output_type": "execute_result"
    }
   ],
   "source": [
    "choices = []\n",
    "for r in Resort.query.all():\n",
    "    name_back = (r.resortname.replace(\" \", \"\")).replace(\"'\", \"\")\n",
    "    name_front = r.resortname\n",
    "    choices.append((name_back, name_front))\n",
    "choices"
   ]
  },
  {
   "cell_type": "code",
   "execution_count": 4,
   "metadata": {},
   "outputs": [
    {
     "name": "stdout",
     "output_type": "stream",
     "text": [
      "1 Kentucky Snowbowl www.google.com\n",
      "2 Goat's Nest Lodge www.yahoo.com\n"
     ]
    }
   ],
   "source": [
    "for r in resorts:\n",
    "    print(r.id, r.resortname, r.url)"
   ]
  },
  {
   "cell_type": "code",
   "execution_count": 8,
   "metadata": {},
   "outputs": [
    {
     "data": {
      "text/plain": [
       "<Resort Kentucky Snowbowl>"
      ]
     },
     "execution_count": 8,
     "metadata": {},
     "output_type": "execute_result"
    }
   ],
   "source": [
    "r=Resort.query.get(1)\n",
    "r.resortname"
   ]
  },
  {
   "cell_type": "code",
   "execution_count": 11,
   "metadata": {},
   "outputs": [
    {
     "data": {
      "text/plain": [
       "[<Resort 49 Degrees North>,\n",
       " <Resort Adanac Ski Hill>,\n",
       " <Resort Alpine Meadows>,\n",
       " <Resort Alpine Ski Club>,\n",
       " <Resort Alpine Valley Resort>,\n",
       " <Resort Alta>,\n",
       " <Resort Alta Sierra>,\n",
       " <Resort Alyeska>,\n",
       " <Resort Angel Fire>,\n",
       " <Resort Apex Mountain Resort>,\n",
       " <Resort Arapahoe Basin>,\n",
       " <Resort Arizona Snowbowl>,\n",
       " <Resort Arrowhead>,\n",
       " <Resort Asessippi Ski Area>,\n",
       " <Resort Aspen Highlands>,\n",
       " <Resort Aspen Mountain>,\n",
       " <Resort Attitash>,\n",
       " <Resort Backcountry Snowcats>,\n",
       " <Resort Bald Mountain>,\n",
       " <Resort Banff Sunshine>,\n",
       " <Resort Batawa Ski Hill>,\n",
       " <Resort Bear Mountain>,\n",
       " <Resort Bear Paw Ski Bowl>,\n",
       " <Resort Bear Valley>,\n",
       " <Resort Beaver Creek>,\n",
       " <Resort Beaver Mountain>,\n",
       " <Resort Beaver Valley Ski Club>,\n",
       " <Resort Bella Coola Heli Sports - Big Mountain Lodge>,\n",
       " <Resort Bella Coola Heli Sports - Pantheon Heli Ranch>,\n",
       " <Resort Bella Coola Heli Sports - Tweedsmuir Park Lodge>,\n",
       " <Resort Berthoud Pass>,\n",
       " <Resort Big Bear>,\n",
       " <Resort Big Red Cats>,\n",
       " <Resort Big Sky>,\n",
       " <Resort Big White Ski Resort>,\n",
       " <Resort Black Mountain>,\n",
       " <Resort Blacktail Mountain>,\n",
       " <Resort Blue Mountain>,\n",
       " <Resort Bluewood>,\n",
       " <Resort Bogus Basin>,\n",
       " <Resort Boler Mountain>,\n",
       " <Resort Boreal>,\n",
       " <Resort Breckenridge>,\n",
       " <Resort Bretton Woods>,\n",
       " <Resort Brian Head>,\n",
       " <Resort Bridger Bowl>,\n",
       " <Resort Brighton>,\n",
       " <Resort Brimacombe>,\n",
       " <Resort Brookvale Provincial Winter Park>,\n",
       " <Resort Brundage>,\n",
       " <Resort Bryce Resort>,\n",
       " <Resort Buttermilk>,\n",
       " <Resort CMH - Adamants>,\n",
       " <Resort CMH - Bobbie Burns>,\n",
       " <Resort CMH - Bugaboos>,\n",
       " <Resort CMH - Cariboos>,\n",
       " <Resort CMH - Galena>,\n",
       " <Resort CMH - Gothics>,\n",
       " <Resort CMH - Kootenay>,\n",
       " <Resort CMH - McBride>,\n",
       " <Resort CMH - Monashees>,\n",
       " <Resort CMH - Revelstoke>,\n",
       " <Resort CMH - Valemount>,\n",
       " <Resort Calabogie Peaks Resort>,\n",
       " <Resort Cameron Pass>,\n",
       " <Resort Camp 10 Ski n Snowboard>,\n",
       " <Resort Campgaw Mountain>,\n",
       " <Resort Canaan Valley>,\n",
       " <Resort Canada Olympic Park>,\n",
       " <Resort Cannon Mountain>,\n",
       " <Resort Canyon Ski Resort>,\n",
       " <Resort Cariboo Snowcat Skiing>,\n",
       " <Resort Cascade Mountain>,\n",
       " <Resort Caste Mountain Cat Skiing - Powder Stagecoach>,\n",
       " <Resort Castle Mountain>,\n",
       " <Resort Centennial Park Ski Hill>,\n",
       " <Resort Centre de Plein Air Cap Chat>,\n",
       " <Resort Centre de ski Belle Neige>,\n",
       " <Resort Centre de ski Le Relais - Lac-Beauport>,\n",
       " <Resort Centre de ski Mont Fortin>,\n",
       " <Resort Centre de ski Mont Rigaud>,\n",
       " <Resort Centre de ski de St-Georges>,\n",
       " <Resort Centre de ski du Mont-Édouard>,\n",
       " <Resort Chatter Creek Heli and Cat Skiing>,\n",
       " <Resort Chestnut Mountain Resort>,\n",
       " <Resort Chicopee Ski and Summer Resort>,\n",
       " <Resort China Peak>,\n",
       " <Resort Christie Mountain>,\n",
       " <Resort Christmas Mountain>,\n",
       " <Resort Cloudmont>,\n",
       " <Resort Club Tobo-Ski>,\n",
       " <Resort Coast Range Heliskiing>,\n",
       " <Resort Cooper>,\n",
       " <Resort Copper Mountain>,\n",
       " <Resort Cottonwood Butte>,\n",
       " <Resort Crabbe Mountain>,\n",
       " <Resort Cranmore>,\n",
       " <Resort Cresent Spur Heli-Skiing>,\n",
       " <Resort Crested Butte>,\n",
       " <Resort Crotched Mountain>,\n",
       " <Resort Crystal Mountain>,\n",
       " <Resort Cypress Mountain>,\n",
       " <Resort Dagmar Ski Resort>,\n",
       " <Resort Dartmouth Skiway>,\n",
       " <Resort Deer Valley>,\n",
       " <Resort Devil's Head Resort>,\n",
       " <Resort Devils Elbow>,\n",
       " <Resort Diamond Peak>,\n",
       " <Resort Discovery Ski Area>,\n",
       " <Resort Dodge Ridge>,\n",
       " <Resort Donner Ski Ranch>,\n",
       " <Resort Drayton Valley Brazeau Snow Club>,\n",
       " <Resort Duck Mountain Ski Area>,\n",
       " <Resort Eagle Pass Heliskiing - Zone 1>,\n",
       " <Resort Eagle Pass Heliskiing - Zone 2>,\n",
       " <Resort Eagle Pass Heliskiing - Zone 3>,\n",
       " <Resort Eagle Pass Heliskiing - Zone 4>,\n",
       " <Resort Eagle Pass Heliskiing - Zone 5>,\n",
       " <Resort Eagle Pass Heliskiing - Zone 6>,\n",
       " <Resort Eagle Pass Heliskiing - Zone 7>,\n",
       " <Resort Eagle Point>,\n",
       " <Resort Eaglecrest>,\n",
       " <Resort Earl Bales Ski and Snowboard Centre>,\n",
       " <Resort Echo Mountain>,\n",
       " <Resort Edelweiss>,\n",
       " <Resort Edmonton Ski Club>,\n",
       " <Resort Eldora>,\n",
       " <Resort Elk Ridge Ski>,\n",
       " <Resort Fairmont Hot Springs Resort>,\n",
       " <Resort Fairview Ski Hill>,\n",
       " <Resort Falcon Ridge Ski and Recreation Area>,\n",
       " <Resort Fernie Alpine Resort>,\n",
       " <Resort Fernie Powder Cat Skiing>,\n",
       " <Resort Fortress Mountain KPOW Cat Skiing>,\n",
       " <Resort Four Lakes Village>,\n",
       " <Resort Glen Eden>,\n",
       " <Resort Goat's Nest Lodge>,\n",
       " <Resort Grand Targhee>,\n",
       " <Resort Granite Gorge>,\n",
       " <Resort Granite Peak>,\n",
       " <Resort Great Canadian Heli-Skiing>,\n",
       " <Resort Great Divide>,\n",
       " <Resort Great Northern Snowcat Skiing>,\n",
       " <Resort Grouse Mountain Resort>,\n",
       " <Resort Gunstock>,\n",
       " <Resort Harper Mountain>,\n",
       " <Resort Heavenly>,\n",
       " <Resort Hesperus>,\n",
       " <Resort Hidden Valley>,\n",
       " <Resort Hidden Valley Highlands Ski Area>,\n",
       " <Resort Hidden Valley Ski Resort>,\n",
       " <Resort Highlands of Olympia>,\n",
       " <Resort Hockley Valley Resort>,\n",
       " <Resort Hogadon>,\n",
       " <Resort Homestead>,\n",
       " <Resort Homewood>,\n",
       " <Resort Horseshoe Resort>,\n",
       " <Resort Hudson Bay Mountain>,\n",
       " <Resort Hurricane Ridge>,\n",
       " <Resort Irwin>,\n",
       " <Resort Island Lake Cat Skiing>,\n",
       " <Resort Jackson Hole>,\n",
       " <Resort June Mountain>,\n",
       " <Resort K3 Cat Skiing>,\n",
       " <Resort Kamiskotia Snow Resort>,\n",
       " <Resort Keefer Lake Lodge>,\n",
       " <Resort Kelly Canyon>,\n",
       " <Resort Kentucky Snowbowl>,\n",
       " <Resort Keystone>,\n",
       " <Resort Kicking Horse Mountain Resort>,\n",
       " <Resort Kimberley Alpine Resort>,\n",
       " <Resort King Pine>,\n",
       " <Resort Kingfisher Heli>,\n",
       " <Resort Kinosoo Ridge Snow Resort>,\n",
       " <Resort Kirkwood>,\n",
       " <Resort Klondike Heliskiing>,\n",
       " <Resort La Reserve>,\n",
       " <Resort Lake Louise Ski Resort>,\n",
       " <Resort Lakeridge Ski Resort>,\n",
       " <Resort Last Frontier Heliskiing - Bell 2 Lodge>,\n",
       " <Resort Last Frontier Heliskiing - Ripley Creek>,\n",
       " <Resort Le Centre de Plein Air du Mont Chalco>,\n",
       " <Resort Le Massif de Charlevoix>,\n",
       " <Resort Lee Canyon>,\n",
       " <Resort Little Ski Hill>,\n",
       " <Resort Little Switzerland>,\n",
       " <Resort Loch Lomond Ski Area>,\n",
       " <Resort Lookout Pass>,\n",
       " <Resort Loon Mountain>,\n",
       " <Resort Lost Trail Powder Mountain>,\n",
       " <Resort Loup Loup Ski Bowl>,\n",
       " <Resort Loveland Ski Area>,\n",
       " <Resort Madawaska Mountain>,\n",
       " <Resort Magic Mountain>,\n",
       " <Resort Majestic Heli Ski>,\n",
       " <Resort Mammoth Mountain>,\n",
       " <Resort Manning Park Resort>,\n",
       " <Resort Mansfield Ski Club>,\n",
       " <Resort Marble Mountain Resort>,\n",
       " <Resort Marmot Basin>,\n",
       " <Resort Martock>,\n",
       " <Resort Massanutten>,\n",
       " <Resort Massif du Sud>,\n",
       " <Resort Maverick Mountain>,\n",
       " <Resort McIntyre Ski Area>,\n",
       " <Resort Meadowlark Ski Lodge>,\n",
       " <Resort Mica Heliskiing>,\n",
       " <Resort Mike Wiegele Helicopter Skiing>,\n",
       " <Resort Mission Ridge>,\n",
       " <Resort Mohawk Mountain>,\n",
       " <Resort Monarch>,\n",
       " <Resort Monashee Powder Snowcats>,\n",
       " <Resort Mont Avalanche>,\n",
       " <Resort Mont Avila>,\n",
       " <Resort Mont Belu>,\n",
       " <Resort Mont Blanc>,\n",
       " <Resort Mont Castor>,\n",
       " <Resort Mont Farlagne>,\n",
       " <Resort Mont Garceau>,\n",
       " <Resort Mont Gleason>,\n",
       " <Resort Mont Grand-Fonds>,\n",
       " <Resort Mont Habitant>,\n",
       " <Resort Mont Lac Vert>,\n",
       " <Resort Mont Olympia>,\n",
       " <Resort Mont Orford>,\n",
       " <Resort Mont Orignal>,\n",
       " <Resort Mont Saint-Mathieu>,\n",
       " <Resort Mont Saint-Sauveur>,\n",
       " <Resort Mont Sainte-Anne>,\n",
       " <Resort Mont Ste-Marie>,\n",
       " <Resort Mont Sutton>,\n",
       " <Resort Mont Tremblant>,\n",
       " <Resort Mont Video>,\n",
       " <Resort Montana Snowbowl>,\n",
       " <Resort Mount Antoine>,\n",
       " <Resort Mount Baldy>,\n",
       " <Resort Mount Baldy Ski Area>,\n",
       " <Resort Mount Cain Alpine Park>,\n",
       " <Resort Mount Chinguacousy>,\n",
       " <Resort Mount Dufour>,\n",
       " <Resort Mount Pakenham>,\n",
       " <Resort Mount Seymour>,\n",
       " <Resort Mount Sima Ski Area>,\n",
       " <Resort Mount St.Louis Moonstone Ski Resort>,\n",
       " <Resort Mount Sunapee>,\n",
       " <Resort Mount Timothy Ski Area>,\n",
       " <Resort Mount Washington Alpine Resort>,\n",
       " <Resort Mountain Creek>,\n",
       " <Resort Mountain High>,\n",
       " <Resort Mountain Top>,\n",
       " <Resort Mt Baker>,\n",
       " <Resort Mt LaCrosse>,\n",
       " <Resort Mt Shasta Ski Park>,\n",
       " <Resort Mt Southington>,\n",
       " <Resort Mt Spokane>,\n",
       " <Resort Mt. Crescent>,\n",
       " <Resort Mt. Lemmon Ski Valley>,\n",
       " <Resort Mt. Norquay Banff>,\n",
       " <Resort Mt. Rose Ski Tahoe>,\n",
       " <Resort Murray Ridge Ski Area>,\n",
       " <Resort Mustang Powder Cat Skiing>,\n",
       " <Resort Nakiska Ski Area>,\n",
       " <Resort Nitehawk Ski Area>,\n",
       " <Resort Nordic Mountain>,\n",
       " <Resort Nordic Valley>,\n",
       " <Resort North Cascade Heli>,\n",
       " <Resort Northern Escape Heli and Cat Skiing>,\n",
       " <Resort Northstar>,\n",
       " <Resort Ober Gatlinburg>,\n",
       " <Resort Owl's Head>,\n",
       " <Resort Pajarito Mountain>,\n",
       " <Resort Panorama Mountain Resort>,\n",
       " <Resort Paoli Peaks>,\n",
       " <Resort Parc du Mont-Comi>,\n",
       " <Resort Park City Mountain>,\n",
       " <Resort Pass Powderkeg>,\n",
       " <Resort Pats Peak>,\n",
       " <Resort Pebble Creek>,\n",
       " <Resort Perfect North Slopes>,\n",
       " <Resort Phoenix Mountain>,\n",
       " <Resort Poley Mountain>,\n",
       " <Resort Pomerelle>,\n",
       " <Resort Powder King Mountain Resort>,\n",
       " <Resort Powder Mountain>,\n",
       " <Resort Powder Mountain Heli and Cat Skiing>,\n",
       " <Resort Powder Ridge>,\n",
       " <Resort Powderhorn>,\n",
       " <Resort Purcell Heli-Skiing>,\n",
       " <Resort Purgatory>,\n",
       " <Resort RK Heliski>,\n",
       " <Resort Rabbit Hill Snow Resort>,\n",
       " <Resort Ragged Mountain>,\n",
       " <Resort Raging Buffalo>,\n",
       " <Resort Red Lodge Mountain>,\n",
       " <Resort Red Mountain Resort>,\n",
       " <Resort Red River>,\n",
       " <Resort Retallack Cat Skiing>,\n",
       " <Resort Revelstoke>,\n",
       " <Resort Robson Helimagic>,\n",
       " <Resort Rocky Mountain National Park>,\n",
       " <Resort Ruby Mountain Heli Skiing>,\n",
       " <Resort Salmo Ski Hill>,\n",
       " <Resort Sandia Peak>,\n",
       " <Resort Sasquatch Mountain Resort>,\n",
       " <Resort Schweitzer>,\n",
       " <Resort Searchmont Resort>,\n",
       " <Resort Selkirk Tangiers Heli Skiing>,\n",
       " <Resort Selkirk Wilderness Skiing>,\n",
       " <Resort Seven Oaks Recreation>,\n",
       " <Resort Shames Mountain (Mountain Co-Operative)>,\n",
       " <Resort Showdown Montana>,\n",
       " <Resort Sierra at Tahoe>,\n",
       " <Resort Silver Mountain>,\n",
       " <Resort Silver Star Mountain Resort>,\n",
       " <Resort Silverton>,\n",
       " <Resort Sipapu>,\n",
       " <Resort Sir Sam's Ski and Bike>,\n",
       " <Resort Skeena Cat Skiing>,\n",
       " <Resort Skeena Heliskiing>,\n",
       " <Resort Ski Apache>,\n",
       " <Resort Ski Ben Eoin>,\n",
       " <Resort Ski Bromont>,\n",
       " <Resort Ski Camp Fortune>,\n",
       " <Resort Ski Cape Smokey>,\n",
       " <Resort Ski Chantecler>,\n",
       " <Resort Ski Cherry Peak>,\n",
       " <Resort Ski Granby Ranch>,\n",
       " <Resort Ski La Tuque>,\n",
       " <Resort Ski Mont Gabriel>,\n",
       " <Resort Ski Mont Saint-Bruno>,\n",
       " <Resort Ski Montcalm>,\n",
       " <Resort Ski Morin Heights>,\n",
       " <Resort Ski Mystic>,\n",
       " <Resort Ski Santa Fe>,\n",
       " <Resort Ski Snowstar>,\n",
       " <Resort Ski Sundown>,\n",
       " <Resort Ski Vorlage>,\n",
       " <Resort Skyloft Ski Resort>,\n",
       " <Resort Sleeping Giant>,\n",
       " <Resort Snow King>,\n",
       " <Resort Snow Summit>,\n",
       " <Resort Snow Valley>,\n",
       " <Resort Snow Valley Ski Club>,\n",
       " <Resort Snow Valley Ski Resort>,\n",
       " <Resort Snowbasin>,\n",
       " <Resort Snowbird>,\n",
       " <Resort Snowhaven>,\n",
       " <Resort Snowmass>,\n",
       " <Resort Snowshoe>,\n",
       " <Resort Snowwater Heli Skiing>,\n",
       " <Resort Snowy Range>,\n",
       " <Resort Soda Springs>,\n",
       " <Resort Soldier Mountain>,\n",
       " <Resort Solitude>,\n",
       " <Resort Springhill Winter Sports Park>,\n",
       " <Resort Squaw Valley>,\n",
       " <Resort Station Mont Cascades>,\n",
       " <Resort Station Plein Air de St-Pacome>,\n",
       " <Resort Station Touristique Pin Rouge>,\n",
       " <Resort Station de ski Le Valinouët>,\n",
       " <Resort Station du mont Adstock>,\n",
       " <Resort Station récrèotouristique Gallix>,\n",
       " <Resort Steamboat>,\n",
       " <Resort Stellar Heli Skiing>,\n",
       " <Resort Stevens Pass>,\n",
       " <Resort Stoneham Mountain Resort>,\n",
       " <Resort Stony Mountain Ski Area>,\n",
       " <Resort Storrs Hill>,\n",
       " <Resort Sugar Bowl>,\n",
       " <Resort Summit Lake Ski Area>,\n",
       " <Resort Summit at Snoqualmie Alpental>,\n",
       " <Resort Summit at Snoqualmie East>,\n",
       " <Resort Summit at Snoqualmie West>,\n",
       " <Resort Sun Peaks Resort>,\n",
       " <Resort Sun Valley>,\n",
       " <Resort Sunburst>,\n",
       " <Resort Sundance>,\n",
       " <Resort Sundown Mountain>,\n",
       " <Resort Sunlight>,\n",
       " <Resort Sunrise Park>,\n",
       " <Resort TLH Heliskiing>,\n",
       " <Resort Tahoe Donner>,\n",
       " <Resort Tamarack>,\n",
       " <Resort Taos>,\n",
       " <Resort Tawatinaw Valley>,\n",
       " <Resort Telluride>,\n",
       " <Resort Terry Peak>,\n",
       " <Resort Teton Pass>,\n",
       " <Resort Timberline>,\n",
       " <Resort Troll Ski Resort>,\n",
       " <Resort Trollhaugen>,\n",
       " <Resort Tuckerman Ravine>,\n",
       " <Resort Tulsequah Heliskiing>,\n",
       " <Resort Turner Mountain>,\n",
       " <Resort Tyrol Basin>,\n",
       " <Resort Uplands Ski Centre>,\n",
       " <Resort Vail>,\n",
       " <Resort Val Neigette>,\n",
       " <Resort Val Saint Come>,\n",
       " <Resort Val-d'Irene>,\n",
       " <Resort Valhalla Powdercats>,\n",
       " <Resort Vallée Bleue Ski Centre>,\n",
       " <Resort Vallée Du Parc>,\n",
       " <Resort Villa Olivia>,\n",
       " <Resort Vista Ridge>,\n",
       " <Resort Waterville Valley>,\n",
       " <Resort Wentworth>,\n",
       " <Resort Whaleback>,\n",
       " <Resort Whistler Blackcomb>,\n",
       " <Resort Whistler Heli-Skiing>,\n",
       " <Resort White Grizzly Cat Skiing>,\n",
       " <Resort White Pass>,\n",
       " <Resort White Pine>,\n",
       " <Resort Whitecap Mountain>,\n",
       " <Resort Whitefish Mountain>,\n",
       " <Resort Whitegrass Touring Center>,\n",
       " <Resort Whitewater Ski Resort>,\n",
       " <Resort Wildcat>,\n",
       " <Resort Wildhorse Cat Skiing>,\n",
       " <Resort Wilmot Mountain>,\n",
       " <Resort Winter Park>,\n",
       " <Resort Wintergreen>,\n",
       " <Resort Winterplace>,\n",
       " <Resort Wolf Creek>,\n",
       " <Resort Woodbury>,\n",
       " <Resort Worsley Clear Hill Ski Club/Whispering Pines>,\n",
       " <Resort Yawgoo Valley>,\n",
       " <Resort Yellowstone Club>,\n",
       " <Resort Yosemite Ski & Snowboard Area>]"
      ]
     },
     "execution_count": 11,
     "metadata": {},
     "output_type": "execute_result"
    }
   ],
   "source": [
    "Resort.query.order_by('resortname').all()"
   ]
  },
  {
   "cell_type": "code",
   "execution_count": 27,
   "metadata": {},
   "outputs": [
    {
     "data": {
      "text/plain": [
       "<Resort Kentucky Snowbowl>"
      ]
     },
     "execution_count": 27,
     "metadata": {},
     "output_type": "execute_result"
    }
   ],
   "source": [
    "Resort.query.filter_by(resortname='Kentucky Snowbowl').first()"
   ]
  },
  {
   "cell_type": "code",
   "execution_count": 8,
   "metadata": {},
   "outputs": [],
   "source": [
    "posts = Post.query.all()"
   ]
  },
  {
   "cell_type": "code",
   "execution_count": 11,
   "metadata": {},
   "outputs": [
    {
     "data": {
      "text/plain": [
       "\"Well, ain't that a kick in the teeth?\""
      ]
     },
     "execution_count": 11,
     "metadata": {},
     "output_type": "execute_result"
    }
   ],
   "source": [
    "post.resortname"
   ]
  },
  {
   "cell_type": "code",
   "execution_count": 2,
   "metadata": {},
   "outputs": [
    {
     "data": {
      "text/plain": [
       "[4, 5, 6, 7, 8]"
      ]
     },
     "execution_count": 2,
     "metadata": {},
     "output_type": "execute_result"
    }
   ],
   "source": []
  },
  {
   "cell_type": "code",
   "execution_count": 53,
   "metadata": {},
   "outputs": [
    {
     "data": {
      "text/plain": [
       "<Post Posty post post>"
      ]
     },
     "execution_count": 53,
     "metadata": {},
     "output_type": "execute_result"
    }
   ],
   "source": [
    "import numpy as np\n",
    "Post.query.get(np.random.randint(0,len(Post.query.all())+1))"
   ]
  },
  {
   "cell_type": "code",
   "execution_count": 33,
   "metadata": {},
   "outputs": [],
   "source": [
    "post_selection = np.random.choice(len(Post.query.all())+1, 3, replace=False)"
   ]
  },
  {
   "cell_type": "code",
   "execution_count": 34,
   "metadata": {},
   "outputs": [
    {
     "data": {
      "text/plain": [
       "array([10, 10, 11])"
      ]
     },
     "execution_count": 34,
     "metadata": {},
     "output_type": "execute_result"
    }
   ],
   "source": [
    "post_selection"
   ]
  },
  {
   "cell_type": "code",
   "execution_count": 35,
   "metadata": {},
   "outputs": [
    {
     "data": {
      "text/plain": [
       "[<Post Sure are lots of rocks!>, <Post Sure are lots of rocks!>, None]"
      ]
     },
     "execution_count": 35,
     "metadata": {},
     "output_type": "execute_result"
    }
   ],
   "source": [
    "rand5 = [Post.query.get(int(i)) for i in post_selection]\n",
    "rand5"
   ]
  },
  {
   "cell_type": "code",
   "execution_count": 30,
   "metadata": {},
   "outputs": [
    {
     "name": "stdout",
     "output_type": "stream",
     "text": [
      "<Post Neato skeeto!>\n"
     ]
    }
   ],
   "source": [
    "print(Post.query.get(7))"
   ]
  },
  {
   "cell_type": "code",
   "execution_count": null,
   "metadata": {},
   "outputs": [],
   "source": []
  }
 ],
 "metadata": {
  "kernelspec": {
   "display_name": "Python [default]",
   "language": "python",
   "name": "python3"
  },
  "language_info": {
   "codemirror_mode": {
    "name": "ipython",
    "version": 3
   },
   "file_extension": ".py",
   "mimetype": "text/x-python",
   "name": "python",
   "nbconvert_exporter": "python",
   "pygments_lexer": "ipython3",
   "version": "3.6.4"
  }
 },
 "nbformat": 4,
 "nbformat_minor": 2
}
